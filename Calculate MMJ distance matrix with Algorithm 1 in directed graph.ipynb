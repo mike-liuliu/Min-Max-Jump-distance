{
 "cells": [
  {
   "cell_type": "code",
   "execution_count": 1,
   "id": "d8c341f4-72ec-41d9-8094-82d124d0d245",
   "metadata": {},
   "outputs": [],
   "source": [
    "from mmj_functions import *"
   ]
  },
  {
   "cell_type": "code",
   "execution_count": null,
   "id": "e919a87e",
   "metadata": {},
   "outputs": [],
   "source": []
  },
  {
   "cell_type": "code",
   "execution_count": 2,
   "id": "ad25e018",
   "metadata": {},
   "outputs": [],
   "source": [
    "def cal_mmj_matrix_algo_1_python_dis_matrix(distance_matrix):\n",
    " \n",
    "    N = len(distance_matrix)\n",
    "   \n",
    "    mmj_matrix = np.zeros((N,N))\n",
    "\n",
    "    mmj_matrix[0,1] = distance_matrix[0,1]\n",
    "    mmj_matrix[1,0] = distance_matrix[1,0]\n",
    " \n",
    "    for kk in range(2,N):\n",
    "        cal_n_mmj(distance_matrix, mmj_matrix, kk)\n",
    "    return mmj_matrix"
   ]
  },
  {
   "cell_type": "code",
   "execution_count": 3,
   "id": "606faa7a",
   "metadata": {},
   "outputs": [],
   "source": [
    "def cal_mmj_variant_of_Floyd_Warshall_python_dis_matrix(distance_matrix):\n",
    "    n = len(distance_matrix)    \n",
    "    p = distance_matrix.copy()\n",
    " \n",
    "    for i in range(n):\n",
    "        for j in range(n):\n",
    "            if i != j:\n",
    "                for k in range(n):\n",
    "                    if i != k and j != k:\n",
    "                        p[j,k] = min (p[j,k], max (p[j,i], p[i,k])) \n",
    "    return p"
   ]
  },
  {
   "cell_type": "code",
   "execution_count": null,
   "id": "b5de4469",
   "metadata": {},
   "outputs": [],
   "source": []
  },
  {
   "cell_type": "code",
   "execution_count": 4,
   "id": "c504c83c",
   "metadata": {},
   "outputs": [
    {
     "name": "stdout",
     "output_type": "stream",
     "text": [
      "[[  0. 424. 160. 275. 199. 523. 260. 156. 926. 439.]\n",
      " [218.   0. 193. 837. 798.  39. 867. 959. 992. 852.]\n",
      " [195. 281.   0. 928. 759. 456. 162. 218. 812. 694.]\n",
      " [953. 870. 992.   0. 281. 981.  44. 391. 335. 904.]\n",
      " [ 58. 386. 372. 420.   0. 806. 602. 664. 911. 971.]\n",
      " [823. 384. 913. 389.  72.   0. 365. 562. 205. 649.]\n",
      " [835. 568. 843. 567.  44. 176.   0.   8. 377. 933.]\n",
      " [394. 965. 684. 800. 234. 276.  78.   0. 546. 396.]\n",
      " [924. 105. 256.   6. 750. 516. 233. 842.   0. 483.]\n",
      " [786. 835. 180. 363.  75. 895. 148. 197. 128.   0.]]\n"
     ]
    }
   ],
   "source": [
    "import numpy as np\n",
    "import random\n",
    "\n",
    "# create distance matrix of a directed graph\n",
    "\n",
    "def create_distance_matrix(edges, num_nodes):\n",
    " \n",
    "    dist_matrix = np.full((num_nodes, num_nodes), np.inf)\n",
    " \n",
    "    np.fill_diagonal(dist_matrix, 0)\n",
    " \n",
    "    for u, v, w in edges:\n",
    "        dist_matrix[u, v] = w\n",
    "    \n",
    "    return dist_matrix\n",
    "\n",
    " \n",
    "num_nodes = 100\n",
    "\n",
    "edges = []\n",
    "for _ in range(50000):  \n",
    "    u = random.randint(0, num_nodes - 1)\n",
    "    v = random.randint(0, num_nodes - 1)\n",
    "    if u != v:\n",
    "        w = int(random.uniform(1, 1000))\n",
    "        edges.append((u, v, w))\n",
    " \n",
    "distance_matrix = create_distance_matrix(edges, num_nodes)\n",
    "\n",
    "print(distance_matrix[:10, :10])  \n"
   ]
  },
  {
   "cell_type": "code",
   "execution_count": null,
   "id": "1594fe7a",
   "metadata": {},
   "outputs": [],
   "source": []
  },
  {
   "cell_type": "code",
   "execution_count": 5,
   "id": "9ace5d79",
   "metadata": {},
   "outputs": [],
   "source": [
    "\n",
    "X_mmj_matrix_python_algo_1 = cal_mmj_matrix_algo_1_python_dis_matrix(distance_matrix)\n"
   ]
  },
  {
   "cell_type": "code",
   "execution_count": 6,
   "id": "090d69da",
   "metadata": {},
   "outputs": [],
   "source": [
    "X_mmj_matrix_python_Floyd_Warshall = cal_mmj_variant_of_Floyd_Warshall_python_dis_matrix(distance_matrix)\n"
   ]
  },
  {
   "cell_type": "code",
   "execution_count": null,
   "id": "b1032168",
   "metadata": {},
   "outputs": [],
   "source": []
  },
  {
   "cell_type": "code",
   "execution_count": 7,
   "id": "2461fc54",
   "metadata": {},
   "outputs": [
    {
     "name": "stdout",
     "output_type": "stream",
     "text": [
      "True\n",
      "0.0\n"
     ]
    }
   ],
   "source": [
    "print(np.allclose(X_mmj_matrix_python_algo_1, X_mmj_matrix_python_Floyd_Warshall)) \n",
    "print(np.sum(np.abs(X_mmj_matrix_python_algo_1 - X_mmj_matrix_python_Floyd_Warshall))) \n"
   ]
  },
  {
   "cell_type": "code",
   "execution_count": 8,
   "id": "baaa8d92-4f03-49ed-8bd8-d37415560429",
   "metadata": {},
   "outputs": [
    {
     "name": "stdout",
     "output_type": "stream",
     "text": [
      "[[ 0. 30. 30. 30. 30. 30. 30. 30. 30. 30.]\n",
      " [25.  0. 25. 25. 25. 25. 25. 25. 27. 25.]\n",
      " [14. 14.  0. 16. 16. 15. 14. 14. 27. 20.]\n",
      " [14. 14. 13.  0. 16. 15. 14. 14. 27. 20.]\n",
      " [14. 14. 13. 16.  0. 15. 14. 14. 27. 20.]\n",
      " [31. 31. 31. 31. 31.  0. 31. 31. 31. 31.]\n",
      " [14. 14.  9. 16. 16. 15.  0.  8. 27. 20.]\n",
      " [14. 14.  9. 16. 16. 15. 14.  0. 27. 20.]\n",
      " [14.  6. 12.  6. 16. 15. 12. 12.  0. 20.]\n",
      " [14. 14. 13. 16. 16. 11. 14. 14. 27.  0.]]\n"
     ]
    }
   ],
   "source": [
    "print(X_mmj_matrix_python_algo_1[:10, :10])  "
   ]
  },
  {
   "cell_type": "code",
   "execution_count": 9,
   "id": "a414879e-ba89-4c38-a1e2-eec3741363e3",
   "metadata": {
    "scrolled": false
   },
   "outputs": [
    {
     "name": "stdout",
     "output_type": "stream",
     "text": [
      "[[ 0. 30. 30. 30. 30. 30. 30. 30. 30. 30.]\n",
      " [25.  0. 25. 25. 25. 25. 25. 25. 27. 25.]\n",
      " [14. 14.  0. 16. 16. 15. 14. 14. 27. 20.]\n",
      " [14. 14. 13.  0. 16. 15. 14. 14. 27. 20.]\n",
      " [14. 14. 13. 16.  0. 15. 14. 14. 27. 20.]\n",
      " [31. 31. 31. 31. 31.  0. 31. 31. 31. 31.]\n",
      " [14. 14.  9. 16. 16. 15.  0.  8. 27. 20.]\n",
      " [14. 14.  9. 16. 16. 15. 14.  0. 27. 20.]\n",
      " [14.  6. 12.  6. 16. 15. 12. 12.  0. 20.]\n",
      " [14. 14. 13. 16. 16. 11. 14. 14. 27.  0.]]\n"
     ]
    }
   ],
   "source": [
    "print(X_mmj_matrix_python_Floyd_Warshall[:10, :10]) "
   ]
  },
  {
   "cell_type": "code",
   "execution_count": null,
   "id": "be4fa6af",
   "metadata": {},
   "outputs": [],
   "source": []
  }
 ],
 "metadata": {
  "kernelspec": {
   "display_name": "Python 3 (ipykernel)",
   "language": "python",
   "name": "python3"
  },
  "language_info": {
   "codemirror_mode": {
    "name": "ipython",
    "version": 3
   },
   "file_extension": ".py",
   "mimetype": "text/x-python",
   "name": "python",
   "nbconvert_exporter": "python",
   "pygments_lexer": "ipython3",
   "version": "3.12.3"
  }
 },
 "nbformat": 4,
 "nbformat_minor": 5
}
