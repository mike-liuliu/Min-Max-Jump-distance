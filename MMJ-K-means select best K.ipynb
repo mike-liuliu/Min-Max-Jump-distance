{
 "cells": [
  {
   "cell_type": "code",
   "execution_count": null,
   "id": "d8c341f4-72ec-41d9-8094-82d124d0d245",
   "metadata": {},
   "outputs": [],
   "source": [
    "exec(open(\"./mmj_functions.py\").read())"
   ]
  },
  {
   "cell_type": "code",
   "execution_count": null,
   "id": "545dbd44",
   "metadata": {},
   "outputs": [],
   "source": [
    "import kmedoids"
   ]
  },
  {
   "cell_type": "code",
   "execution_count": null,
   "id": "f2bd5ac3-33cd-4af5-b764-88c50cac5b69",
   "metadata": {},
   "outputs": [],
   "source": [
    "random.seed(122)\n",
    "np.random.seed(122)"
   ]
  },
  {
   "cell_type": "code",
   "execution_count": null,
   "id": "0963b8f1",
   "metadata": {},
   "outputs": [],
   "source": [
    "def MMJ_K_means_select_best_K_method_1(X, mmj_matrix):\n",
    "    \n",
    "    global dis_matrix \n",
    "    \n",
    "    mmj_sc_list = []\n",
    "    \n",
    "    K_list = np.arange(2,31)\n",
    "    \n",
    "    K_list = [int(i) for i in K_list]\n",
    "    \n",
    "    for num_clusters in K_list:\n",
    " \n",
    "        label, strong_ambi_p_idx, weak_ambi_p_idx = MMJ_K_means_using_PAM_algo_return(X, num_clusters, mmj_matrix)\n",
    " \n",
    "        border_points = strong_ambi_p_idx + weak_ambi_p_idx\n",
    "        new_X = np.array([X[i] for i in range(len(X)) if i not in border_points])\n",
    "        new_label = np.array([label[i] for i in range(len(X)) if i not in border_points])\n",
    "#         plot_2D_or_3D_data(new_X, new_label)\n",
    "        new_X_idx = np.array([i for i in range(len(X)) if i not in border_points])\n",
    "        dis_matrix = np.zeros((len(new_X_idx),len(new_X_idx)))\n",
    "\n",
    "        for i, idx1 in enumerate(new_X_idx):\n",
    "            for j, idx2 in enumerate(new_X_idx):\n",
    "                dis_matrix[i,j] = mmj_matrix[idx1, idx2]\n",
    "        mmj_sc = mmj_Silhouette_coefficient(new_X, new_label)\n",
    "        mmj_sc_list.append(mmj_sc)\n",
    "    best_K = K_list[np.argmax(mmj_sc_list)]\n",
    "    \n",
    "    return best_K, mmj_sc_list"
   ]
  },
  {
   "cell_type": "code",
   "execution_count": null,
   "id": "cee3e02e",
   "metadata": {},
   "outputs": [],
   "source": [
    "def MMJ_K_means_select_best_K_method_2(X, mmj_matrix):\n",
    "    \n",
    "    global dis_matrix \n",
    "    \n",
    "    mmj_sc_list = []\n",
    "    \n",
    "    K_list = np.arange(2,31)\n",
    "    \n",
    "    K_list = [int(i) for i in K_list]\n",
    "    \n",
    "    for num_clusters in K_list:\n",
    " \n",
    "        label, strong_ambi_p_idx, weak_ambi_p_idx = MMJ_K_means_using_PAM_algo_return(X, num_clusters, mmj_matrix)\n",
    " \n",
    "        dis_matrix = mmj_matrix\n",
    "  \n",
    "        mmj_sc = mmj_Silhouette_coefficient(X, label)\n",
    "        mmj_sc_list.append(mmj_sc)\n",
    "    best_K = K_list[np.argmax(mmj_sc_list)]\n",
    "    \n",
    "    return best_K, mmj_sc_list"
   ]
  },
  {
   "cell_type": "code",
   "execution_count": null,
   "id": "41c88df4",
   "metadata": {},
   "outputs": [],
   "source": [
    "\n",
    "\n",
    "def MMJ_K_means_using_PAM_algo_return(X, num_clusters, mmj_matrix, plot = False): \n",
    "\n",
    "    mmj_matrix_squared = mmj_matrix**2\n",
    "    km_model = kmedoids.fasterpam(mmj_matrix_squared, num_clusters)\n",
    "    \n",
    "    label = km_model.labels\n",
    "    centers_idx = [[ii] for ii in km_model.medoids]\n",
    "    dis_to_medoids = np.array([[mmj_matrix[i,j] for j in km_model.medoids] for i in range(len(X))])\n",
    "    min_dis_to_medoids = np.min(dis_to_medoids, axis = 1)\n",
    "\n",
    "    strong_ambi_p_idx, weak_ambi_p_idx = [], []\n",
    "    for i, _ in enumerate(dis_to_medoids):   \n",
    "        ppp = np.sum(dis_to_medoids[i] == min_dis_to_medoids[i])\n",
    "        if  ppp == 1:\n",
    "            pass      \n",
    "        elif ppp == num_clusters:\n",
    "            strong_ambi_p_idx.append(i)      \n",
    "        else:\n",
    "            weak_ambi_p_idx.append(i)\n",
    "    if plot: \n",
    "        if strong_ambi_p_idx or weak_ambi_p_idx:\n",
    "            plot_2D_or_3D_data_empty_circles_weak_strong_multi_one_scom(X, label,centers_idx, strong_ambi_p_idx, weak_ambi_p_idx)        \n",
    "        else:\n",
    "            plot_2D_or_3D_data(X, label, centers_idx = centers_idx, plot_center = 1)\n",
    "        \n",
    "    return [label, strong_ambi_p_idx, weak_ambi_p_idx]"
   ]
  },
  {
   "cell_type": "code",
   "execution_count": null,
   "id": "d872dcab",
   "metadata": {},
   "outputs": [],
   "source": [
    "test_data_145 = pickle.load(  open( \"./data/test_data_145.p\", \"rb\" ) ) "
   ]
  },
  {
   "cell_type": "code",
   "execution_count": null,
   "id": "7e049601",
   "metadata": {},
   "outputs": [],
   "source": [
    "# In MMJ_K_means_select_best_K_method_1, we remove border points when calculating MMJ-SC value.\n",
    "\n",
    "# In MMJ_K_means_select_best_K_method_2, we ignore border points when calculating MMJ-SC value."
   ]
  },
  {
   "cell_type": "code",
   "execution_count": null,
   "id": "18b36d9b",
   "metadata": {},
   "outputs": [],
   "source": []
  },
  {
   "cell_type": "code",
   "execution_count": null,
   "id": "435b4dbe",
   "metadata": {},
   "outputs": [],
   "source": [
    "data_id  = 69\n",
    "\n",
    "X = test_data_145[data_id] \n",
    " \n",
    "# Calculate MMJ distance matrix with Algorithm 4, implementation and testing of Algorithm 4 see another paper:\n",
    "# http://www.arxiv.org/abs/2407.07058\n",
    "mmj_matrix =  cal_mmj_matrix_by_algo_4_Calculation_and_Copy(X)\n",
    " \n",
    "# select best K (number of clusters) from range(2,31) with MMJ-SC, method_1\n",
    "best_K, mmj_sc_list = MMJ_K_means_select_best_K_method_1(X, mmj_matrix)\n",
    "\n",
    "print(\"MMJ_K_means_select_best_K_method_1 best_K: \", best_K)\n",
    "\n",
    "result = MMJ_K_means_using_PAM_algo(X, num_clusters, mmj_matrix_squared, plot = True)\n",
    "\n",
    "print(\"-\"*80)\n",
    "\n",
    "# select best K (number of clusters) from range(2,31) with MMJ-SC, method_2\n",
    "best_K, mmj_sc_list = MMJ_K_means_select_best_K_method_2(X, mmj_matrix)\n",
    "\n",
    "print(\"MMJ_K_means_select_best_K_method_2 best_K: \", best_K)\n",
    "\n",
    "result = MMJ_K_means_using_PAM_algo(X, num_clusters, mmj_matrix_squared, plot = True)\n"
   ]
  },
  {
   "cell_type": "code",
   "execution_count": null,
   "id": "910f1cd8",
   "metadata": {},
   "outputs": [],
   "source": [
    "data_id  = 0\n",
    "\n",
    "X = test_data_145[data_id] \n",
    " \n",
    "# Calculate MMJ distance matrix with Algorithm 4, implementation and testing of Algorithm 4 see another paper:\n",
    "# http://www.arxiv.org/abs/2407.07058\n",
    "mmj_matrix =  cal_mmj_matrix_by_algo_4_Calculation_and_Copy(X)\n",
    " \n",
    "# select best K (number of clusters) from range(2,31) with MMJ-SC, method_1\n",
    "best_K, mmj_sc_list = MMJ_K_means_select_best_K_method_1(X, mmj_matrix)\n",
    "\n",
    "print(\"MMJ_K_means_select_best_K_method_1 best_K: \", best_K)\n",
    "\n",
    "result = MMJ_K_means_using_PAM_algo(X, num_clusters, mmj_matrix_squared, plot = True)\n",
    "\n",
    "print(\"-\"*80)\n",
    "\n",
    "# select best K (number of clusters) from range(2,31) with MMJ-SC, method_2\n",
    "best_K, mmj_sc_list = MMJ_K_means_select_best_K_method_2(X, mmj_matrix)\n",
    "\n",
    "print(\"MMJ_K_means_select_best_K_method_2 best_K: \", best_K)\n",
    "\n",
    "result = MMJ_K_means_using_PAM_algo(X, num_clusters, mmj_matrix_squared, plot = True)"
   ]
  },
  {
   "cell_type": "code",
   "execution_count": null,
   "id": "1f85ee8c",
   "metadata": {},
   "outputs": [],
   "source": [
    "data_id  = 106\n",
    "\n",
    "X = test_data_145[data_id] \n",
    " \n",
    "# Calculate MMJ distance matrix with Algorithm 4, implementation and testing of Algorithm 4 see another paper:\n",
    "# http://www.arxiv.org/abs/2407.07058\n",
    "mmj_matrix =  cal_mmj_matrix_by_algo_4_Calculation_and_Copy(X)\n",
    " \n",
    "# select best K (number of clusters) from range(2,31) with MMJ-SC, method_1\n",
    "best_K, mmj_sc_list = MMJ_K_means_select_best_K_method_1(X, mmj_matrix)\n",
    "\n",
    "print(\"MMJ_K_means_select_best_K_method_1 best_K: \", best_K)\n",
    "\n",
    "result = MMJ_K_means_using_PAM_algo(X, num_clusters, mmj_matrix_squared, plot = True)\n",
    "\n",
    "print(\"-\"*80)\n",
    "\n",
    "# select best K (number of clusters) from range(2,31) with MMJ-SC, method_2\n",
    "best_K, mmj_sc_list = MMJ_K_means_select_best_K_method_2(X, mmj_matrix)\n",
    "\n",
    "print(\"MMJ_K_means_select_best_K_method_2 best_K: \", best_K)\n",
    "\n",
    "result = MMJ_K_means_using_PAM_algo(X, num_clusters, mmj_matrix_squared, plot = True)"
   ]
  },
  {
   "cell_type": "code",
   "execution_count": null,
   "id": "884a1435",
   "metadata": {},
   "outputs": [],
   "source": []
  },
  {
   "cell_type": "code",
   "execution_count": null,
   "id": "e7b1fc9e",
   "metadata": {},
   "outputs": [],
   "source": [
    "# MMJ_K_means_select_best_K_method_1 succeeds for data 108, while\n",
    "# MMJ_K_means_select_best_K_method_2 fails for it."
   ]
  },
  {
   "cell_type": "code",
   "execution_count": null,
   "id": "d28342ca",
   "metadata": {},
   "outputs": [],
   "source": [
    "data_id  = 108\n",
    "\n",
    "X = test_data_145[data_id] \n",
    " \n",
    "# Calculate MMJ distance matrix with Algorithm 4, implementation and testing of Algorithm 4 see another paper:\n",
    "# http://www.arxiv.org/abs/2407.07058\n",
    "mmj_matrix =  cal_mmj_matrix_by_algo_4_Calculation_and_Copy(X)\n",
    " \n",
    "# select best K (number of clusters) from range(2,31) with MMJ-SC, method_1\n",
    "best_K, mmj_sc_list = MMJ_K_means_select_best_K_method_1(X, mmj_matrix)\n",
    "\n",
    "print(\"MMJ_K_means_select_best_K_method_1 best_K: \", best_K)\n",
    "\n",
    "result = MMJ_K_means_using_PAM_algo(X, num_clusters, mmj_matrix_squared, plot = True)\n",
    "\n",
    "print(\"-\"*80)\n",
    "\n",
    "# select best K (number of clusters) from range(2,31) with MMJ-SC, method_2\n",
    "best_K, mmj_sc_list = MMJ_K_means_select_best_K_method_2(X, mmj_matrix)\n",
    "\n",
    "print(\"MMJ_K_means_select_best_K_method_2 best_K: \", best_K)\n",
    "\n",
    "result = MMJ_K_means_using_PAM_algo(X, num_clusters, mmj_matrix_squared, plot = True)"
   ]
  },
  {
   "cell_type": "code",
   "execution_count": null,
   "id": "8f8e0453",
   "metadata": {
    "scrolled": false
   },
   "outputs": [],
   "source": [
    "data_id  = 2\n",
    "\n",
    "X = test_data_145[data_id] \n",
    " \n",
    "# Calculate MMJ distance matrix with Algorithm 4, implementation and testing of Algorithm 4 see another paper:\n",
    "# http://www.arxiv.org/abs/2407.07058\n",
    "mmj_matrix =  cal_mmj_matrix_by_algo_4_Calculation_and_Copy(X)\n",
    " \n",
    "# select best K (number of clusters) from range(2,31) with MMJ-SC, method_1\n",
    "best_K, mmj_sc_list = MMJ_K_means_select_best_K_method_1(X, mmj_matrix)\n",
    "\n",
    "print(\"MMJ_K_means_select_best_K_method_1 best_K: \", best_K)\n",
    "\n",
    "result = MMJ_K_means_using_PAM_algo(X, num_clusters, mmj_matrix_squared, plot = True)\n",
    "\n",
    "print(\"-\"*80)\n",
    "\n",
    "# select best K (number of clusters) from range(2,31) with MMJ-SC, method_2\n",
    "best_K, mmj_sc_list = MMJ_K_means_select_best_K_method_2(X, mmj_matrix)\n",
    "\n",
    "print(\"MMJ_K_means_select_best_K_method_2 best_K: \", best_K)\n",
    "\n",
    "result = MMJ_K_means_using_PAM_algo(X, num_clusters, mmj_matrix_squared, plot = True)"
   ]
  },
  {
   "cell_type": "code",
   "execution_count": null,
   "id": "19b33845",
   "metadata": {},
   "outputs": [],
   "source": [
    "# method_2 is faster than method_1"
   ]
  },
  {
   "cell_type": "code",
   "execution_count": null,
   "id": "13859134",
   "metadata": {
    "scrolled": false
   },
   "outputs": [],
   "source": [
    "data_id  = 22\n",
    "\n",
    "X = test_data_145[data_id] \n",
    " \n",
    "# Calculate MMJ distance matrix with Algorithm 4, implementation and testing of Algorithm 4 see another paper:\n",
    "# http://www.arxiv.org/abs/2407.07058\n",
    "mmj_matrix =  cal_mmj_matrix_by_algo_4_Calculation_and_Copy(X)\n",
    " \n",
    "# select best K (number of clusters) from range(2,31) with MMJ-SC, method_1\n",
    "best_K, mmj_sc_list = MMJ_K_means_select_best_K_method_1(X, mmj_matrix)\n",
    "\n",
    "print(\"MMJ_K_means_select_best_K_method_1 best_K: \", best_K)\n",
    "\n",
    "result = MMJ_K_means_using_PAM_algo(X, num_clusters, mmj_matrix_squared, plot = True)\n",
    "\n",
    "print(\"-\"*80)\n",
    "\n",
    "# select best K (number of clusters) from range(2,31) with MMJ-SC, method_2\n",
    "best_K, mmj_sc_list = MMJ_K_means_select_best_K_method_2(X, mmj_matrix)\n",
    "\n",
    "print(\"MMJ_K_means_select_best_K_method_2 best_K: \", best_K)\n",
    "\n",
    "result = MMJ_K_means_using_PAM_algo(X, num_clusters, mmj_matrix_squared, plot = True)"
   ]
  },
  {
   "cell_type": "code",
   "execution_count": null,
   "id": "44d52dca",
   "metadata": {},
   "outputs": [],
   "source": [
    "# MMJ_K_means_select_best_K_method_1 fails for data 45, while \n",
    "# MMJ_K_means_select_best_K_method_2 succeeds for the data."
   ]
  },
  {
   "cell_type": "code",
   "execution_count": null,
   "id": "4d12d83c",
   "metadata": {},
   "outputs": [],
   "source": [
    "data_id  = 45\n",
    "\n",
    "X = test_data_145[data_id] \n",
    " \n",
    "# Calculate MMJ distance matrix with Algorithm 4, implementation and testing of Algorithm 4 see another paper:\n",
    "# http://www.arxiv.org/abs/2407.07058\n",
    "mmj_matrix =  cal_mmj_matrix_by_algo_4_Calculation_and_Copy(X)\n",
    " \n",
    "# select best K (number of clusters) from range(2,31) with MMJ-SC, method_1\n",
    "best_K, mmj_sc_list = MMJ_K_means_select_best_K_method_1(X, mmj_matrix)\n",
    "\n",
    "print(\"MMJ_K_means_select_best_K_method_1 best_K: \", best_K)\n",
    "\n",
    "result = MMJ_K_means_using_PAM_algo(X, num_clusters, mmj_matrix_squared, plot = True)\n",
    "\n",
    "print(\"-\"*80)\n",
    "\n",
    "# select best K (number of clusters) from range(2,31) with MMJ-SC, method_2\n",
    "best_K, mmj_sc_list = MMJ_K_means_select_best_K_method_2(X, mmj_matrix)\n",
    "\n",
    "print(\"MMJ_K_means_select_best_K_method_2 best_K: \", best_K)\n",
    "\n",
    "result = MMJ_K_means_using_PAM_algo(X, num_clusters, mmj_matrix_squared, plot = True)"
   ]
  },
  {
   "cell_type": "code",
   "execution_count": null,
   "id": "62f0189e",
   "metadata": {},
   "outputs": [],
   "source": [
    "data_id  = 86\n",
    "\n",
    "X = test_data_145[data_id] \n",
    " \n",
    "# Calculate MMJ distance matrix with Algorithm 4, implementation and testing of Algorithm 4 see another paper:\n",
    "# http://www.arxiv.org/abs/2407.07058\n",
    "mmj_matrix =  cal_mmj_matrix_by_algo_4_Calculation_and_Copy(X)\n",
    " \n",
    "# select best K (number of clusters) from range(2,31) with MMJ-SC, method_1\n",
    "best_K, mmj_sc_list = MMJ_K_means_select_best_K_method_1(X, mmj_matrix)\n",
    "\n",
    "print(\"MMJ_K_means_select_best_K_method_1 best_K: \", best_K)\n",
    "\n",
    "result = MMJ_K_means_using_PAM_algo(X, num_clusters, mmj_matrix_squared, plot = True)\n",
    "\n",
    "print(\"-\"*80)\n",
    "\n",
    "# select best K (number of clusters) from range(2,31) with MMJ-SC, method_2\n",
    "best_K, mmj_sc_list = MMJ_K_means_select_best_K_method_2(X, mmj_matrix)\n",
    "\n",
    "print(\"MMJ_K_means_select_best_K_method_2 best_K: \", best_K)\n",
    "\n",
    "result = MMJ_K_means_using_PAM_algo(X, num_clusters, mmj_matrix_squared, plot = True)"
   ]
  },
  {
   "cell_type": "code",
   "execution_count": null,
   "id": "223370aa",
   "metadata": {},
   "outputs": [],
   "source": [
    "# Therefore, both methods have their merit and demerit."
   ]
  },
  {
   "cell_type": "code",
   "execution_count": null,
   "id": "0644097e",
   "metadata": {},
   "outputs": [],
   "source": []
  }
 ],
 "metadata": {
  "kernelspec": {
   "display_name": "Python 3 (ipykernel)",
   "language": "python",
   "name": "python3"
  },
  "language_info": {
   "codemirror_mode": {
    "name": "ipython",
    "version": 3
   },
   "file_extension": ".py",
   "mimetype": "text/x-python",
   "name": "python",
   "nbconvert_exporter": "python",
   "pygments_lexer": "ipython3",
   "version": "3.12.3"
  }
 },
 "nbformat": 4,
 "nbformat_minor": 5
}
