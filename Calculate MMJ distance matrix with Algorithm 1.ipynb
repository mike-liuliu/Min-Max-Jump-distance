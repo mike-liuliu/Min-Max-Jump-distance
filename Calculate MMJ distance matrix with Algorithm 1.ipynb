{
 "cells": [
  {
   "cell_type": "code",
   "execution_count": 1,
   "id": "d8c341f4-72ec-41d9-8094-82d124d0d245",
   "metadata": {},
   "outputs": [],
   "source": [
    "exec(open(\"./funcs/mmj_functions.py\").read())"
   ]
  },
  {
   "cell_type": "code",
   "execution_count": 2,
   "id": "2baeabee-a859-49f8-a070-cf2135ae5563",
   "metadata": {},
   "outputs": [
    {
     "data": {
      "text/plain": [
       "<matplotlib.collections.PathCollection at 0x129fb50d0>"
      ]
     },
     "execution_count": 2,
     "metadata": {},
     "output_type": "execute_result"
    },
    {
     "data": {
      "image/png": "[encoded data removed]",
      "text/plain": [
       "<Figure size 640x480 with 1 Axes>"
      ]
     },
     "metadata": {},
     "output_type": "display_data"
    }
   ],
   "source": [
    "test_data_145 = pickle.load(  open( \"./data/test_data_145.p\", \"rb\" ) ) \n",
    "true_K_145 =  pickle.load(  open( \"./data/true_num_of_145.p\", \"rb\" ) ) \n",
    "\n",
    "X = test_data_145[1][:100]\n",
    "    \n",
    "plt.scatter(X[:,0],X[:,1], s= 10)"
   ]
  },
  {
   "cell_type": "code",
   "execution_count": 3,
   "id": "21e69962",
   "metadata": {},
   "outputs": [],
   "source": [
    "# Calculate MMJ distance matrix with Algorithm 1 and implemented with C++, the dynamic-link library (DLL) only compiled for macOS and linux, \n",
    "# readers can compile their own DLL with the C++ source code in the \"mmj_so\" folder.\n",
    "\n",
    "X_mmj_matrix_cpp = cal_mmj_matrix_cpp_round_n(X, n = 15)\n"
   ]
  },
  {
   "cell_type": "code",
   "execution_count": 4,
   "id": "9ace5d79",
   "metadata": {},
   "outputs": [],
   "source": [
    "# Calculate MMJ distance matrix with Algorithm 1 and implemented with python, the C++ version is much faster than the python version.\n",
    " \n",
    "\n",
    "X_mmj_matrix_python = cal_mmj_matrix_algo_1_python(X)\n"
   ]
  },
  {
   "cell_type": "code",
   "execution_count": 5,
   "id": "2461fc54",
   "metadata": {},
   "outputs": [
    {
     "data": {
      "text/plain": [
       "True"
      ]
     },
     "execution_count": 5,
     "metadata": {},
     "output_type": "execute_result"
    }
   ],
   "source": [
    "# Result of C++ version is equal to python version.\n",
    "\n",
    "\n",
    "np.allclose(X_mmj_matrix_cpp, X_mmj_matrix_python)"
   ]
  },
  {
   "cell_type": "code",
   "execution_count": 6,
   "id": "baaa8d92-4f03-49ed-8bd8-d37415560429",
   "metadata": {},
   "outputs": [
    {
     "data": {
      "text/plain": [
       "array([[0.        , 3.9027371 , 3.9027371 , ..., 3.9027371 , 6.95705076,\n",
       "        3.9027371 ],\n",
       "       [3.9027371 , 0.        , 3.85655006, ..., 0.60288488, 6.95705076,\n",
       "        0.29699105],\n",
       "       [3.9027371 , 3.85655006, 0.        , ..., 3.85655006, 6.95705076,\n",
       "        3.85655006],\n",
       "       ...,\n",
       "       [3.9027371 , 0.60288488, 3.85655006, ..., 0.        , 6.95705076,\n",
       "        0.60288488],\n",
       "       [6.95705076, 6.95705076, 6.95705076, ..., 6.95705076, 0.        ,\n",
       "        6.95705076],\n",
       "       [3.9027371 , 0.29699105, 3.85655006, ..., 0.60288488, 6.95705076,\n",
       "        0.        ]])"
      ]
     },
     "execution_count": 6,
     "metadata": {},
     "output_type": "execute_result"
    }
   ],
   "source": [
    "X_mmj_matrix_cpp"
   ]
  },
  {
   "cell_type": "code",
   "execution_count": 7,
   "id": "a414879e-ba89-4c38-a1e2-eec3741363e3",
   "metadata": {},
   "outputs": [
    {
     "data": {
      "text/plain": [
       "array([[0.        , 3.9027371 , 3.9027371 , ..., 3.9027371 , 6.95705076,\n",
       "        3.9027371 ],\n",
       "       [3.9027371 , 0.        , 3.85655006, ..., 0.60288488, 6.95705076,\n",
       "        0.29699105],\n",
       "       [3.9027371 , 3.85655006, 0.        , ..., 3.85655006, 6.95705076,\n",
       "        3.85655006],\n",
       "       ...,\n",
       "       [3.9027371 , 0.60288488, 3.85655006, ..., 0.        , 6.95705076,\n",
       "        0.60288488],\n",
       "       [6.95705076, 6.95705076, 6.95705076, ..., 6.95705076, 0.        ,\n",
       "        6.95705076],\n",
       "       [3.9027371 , 0.29699105, 3.85655006, ..., 0.60288488, 6.95705076,\n",
       "        0.        ]])"
      ]
     },
     "execution_count": 7,
     "metadata": {},
     "output_type": "execute_result"
    }
   ],
   "source": [
    "X_mmj_matrix_python"
   ]
  },
  {
   "cell_type": "code",
   "execution_count": null,
   "id": "bb26caca-58d6-43ab-8268-85467c8d67ef",
   "metadata": {},
   "outputs": [],
   "source": []
  }
 ],
 "metadata": {
  "kernelspec": {
   "display_name": "Python 3 (ipykernel)",
   "language": "python",
   "name": "python3"
  },
  "language_info": {
   "codemirror_mode": {
    "name": "ipython",
    "version": 3
   },
   "file_extension": ".py",
   "mimetype": "text/x-python",
   "name": "python",
   "nbconvert_exporter": "python",
   "pygments_lexer": "ipython3",
   "version": "3.12.3"
  }
 },
 "nbformat": 4,
 "nbformat_minor": 5
}
