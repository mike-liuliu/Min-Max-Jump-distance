{
 "cells": [
  {
   "cell_type": "code",
   "execution_count": 1,
   "id": "d8c341f4-72ec-41d9-8094-82d124d0d245",
   "metadata": {
    "scrolled": true
   },
   "outputs": [],
   "source": [
    "from funcs.algo_4_funcs import *\n",
    "from mmj_functions import *"
   ]
  },
  {
   "cell_type": "code",
   "execution_count": null,
   "id": "9f02622c",
   "metadata": {},
   "outputs": [],
   "source": []
  },
  {
   "cell_type": "code",
   "execution_count": null,
   "id": "8aeb7087",
   "metadata": {},
   "outputs": [],
   "source": []
  },
  {
   "cell_type": "code",
   "execution_count": 2,
   "id": "2baeabee-a859-49f8-a070-cf2135ae5563",
   "metadata": {},
   "outputs": [],
   "source": [
    "test_data_145 = pickle.load(  open( \"./data/test_data_145.p\", \"rb\" ) ) \n",
    "true_K_145 =  pickle.load(  open( \"./data/true_num_of_145.p\", \"rb\" ) ) \n",
    "\n",
    "# X = test_data_145[1]\n",
    "    \n",
    "# plt.scatter(X[:,0],X[:,1], s= 10)"
   ]
  },
  {
   "cell_type": "code",
   "execution_count": 3,
   "id": "f2bd5ac3-33cd-4af5-b764-88c50cac5b69",
   "metadata": {},
   "outputs": [],
   "source": [
    "random.seed(122)\n",
    "np.random.seed(122)"
   ]
  },
  {
   "cell_type": "code",
   "execution_count": 4,
   "id": "ce440653-3b8c-4480-8b7c-9348a71ef016",
   "metadata": {},
   "outputs": [],
   "source": [
    "# To save time, we just load precomputed MMJ distance matrix calculated with Algorithm 1\n"
   ]
  },
  {
   "cell_type": "code",
   "execution_count": 5,
   "id": "25133cfb-572d-4c70-a61c-3d77572762fe",
   "metadata": {},
   "outputs": [
    {
     "ename": "NameError",
     "evalue": "name 'cal_mmj_matrix_by_algo_4_Calculation_and_Copy' is not defined",
     "output_type": "error",
     "traceback": [
      "\u001b[0;31m---------------------------------------------------------------------------\u001b[0m",
      "\u001b[0;31mNameError\u001b[0m                                 Traceback (most recent call last)",
      "Cell \u001b[0;32mIn[5], line 1\u001b[0m\n\u001b[0;32m----> 1\u001b[0m \u001b[43mtest_mmj_kmeans_multi_one_scom\u001b[49m\u001b[43m(\u001b[49m\u001b[43mdata_id\u001b[49m\u001b[43m \u001b[49m\u001b[38;5;241;43m=\u001b[39;49m\u001b[43m \u001b[49m\u001b[38;5;241;43m1\u001b[39;49m\u001b[43m,\u001b[49m\u001b[43m \u001b[49m\u001b[43mdatasets\u001b[49m\u001b[43m \u001b[49m\u001b[38;5;241;43m=\u001b[39;49m\u001b[43m \u001b[49m\u001b[43mtest_data_145\u001b[49m\u001b[43m,\u001b[49m\u001b[43m \u001b[49m\u001b[43mdatasets_true_K\u001b[49m\u001b[43m \u001b[49m\u001b[38;5;241;43m=\u001b[39;49m\u001b[43m \u001b[49m\u001b[43mtrue_K_145\u001b[49m\u001b[43m,\u001b[49m\u001b[43m \u001b[49m\u001b[43mattempts\u001b[49m\u001b[43m \u001b[49m\u001b[38;5;241;43m=\u001b[39;49m\u001b[43m \u001b[49m\u001b[38;5;241;43m20\u001b[39;49m\u001b[43m)\u001b[49m\n",
      "File \u001b[0;32m~/Documents/optimalk/CNNI/clone/Min-Max-Jump-distance/mmj_functions.py:288\u001b[0m, in \u001b[0;36mtest_mmj_kmeans_multi_one_scom\u001b[0;34m(data_id, datasets, datasets_true_K, attempts)\u001b[0m\n\u001b[1;32m    282\u001b[0m num_clusters \u001b[38;5;241m=\u001b[39m datasets_true_K[data_id]\n\u001b[1;32m    284\u001b[0m \u001b[38;5;66;03m# mmj_matrix = pickle.load( open( f\"./mmj_distance_matrix_precomputed/mmj_r_data_{data_id}.p\", \"rb\" ) ) \u001b[39;00m\n\u001b[1;32m    285\u001b[0m \n\u001b[1;32m    286\u001b[0m \u001b[38;5;66;03m# Calculate MMJ distance matrix with Algorithm 4, implementation and testing of Algorithm 4 see another paper:\u001b[39;00m\n\u001b[1;32m    287\u001b[0m \u001b[38;5;66;03m# http://www.arxiv.org/abs/2407.07058\u001b[39;00m\n\u001b[0;32m--> 288\u001b[0m mmj_matrix \u001b[38;5;241m=\u001b[39m  \u001b[43mcal_mmj_matrix_by_algo_4_Calculation_and_Copy\u001b[49m(X) \n\u001b[1;32m    290\u001b[0m label, centers_idx, loss, strong_ambi_p_idx, weak_ambi_p_idx \u001b[38;5;241m=\u001b[39m KMeans_several_times_ambi_points_multi_one_scom(X, num_clusters, attempts, mmj_matrix)\n\u001b[1;32m    293\u001b[0m \u001b[38;5;28;01mif\u001b[39;00m strong_ambi_p_idx \u001b[38;5;129;01mor\u001b[39;00m weak_ambi_p_idx:\n",
      "\u001b[0;31mNameError\u001b[0m: name 'cal_mmj_matrix_by_algo_4_Calculation_and_Copy' is not defined"
     ]
    }
   ],
   "source": [
    "test_mmj_kmeans_multi_one_scom(data_id = 1, datasets = test_data_145, datasets_true_K = true_K_145, attempts = 20)\n",
    " "
   ]
  },
  {
   "cell_type": "code",
   "execution_count": null,
   "id": "bb26caca-58d6-43ab-8268-85467c8d67ef",
   "metadata": {},
   "outputs": [],
   "source": [
    "test_mmj_kmeans_multi_one_scom(data_id = 83, datasets = test_data_145, datasets_true_K = true_K_145, attempts = 20)\n",
    " "
   ]
  },
  {
   "cell_type": "code",
   "execution_count": null,
   "id": "8ad90f1c-535a-476b-833c-7c8ade73003e",
   "metadata": {},
   "outputs": [],
   "source": [
    "test_mmj_kmeans_multi_one_scom(data_id = 4, datasets = test_data_145, datasets_true_K = true_K_145, attempts = 20)\n",
    " "
   ]
  },
  {
   "cell_type": "code",
   "execution_count": null,
   "id": "c84a726a-d937-497f-bbce-72989bcfea31",
   "metadata": {},
   "outputs": [],
   "source": [
    "test_mmj_kmeans_multi_one_scom(data_id = 78, datasets = test_data_145, datasets_true_K = true_K_145, attempts = 20)\n",
    " "
   ]
  },
  {
   "cell_type": "code",
   "execution_count": null,
   "id": "c73c68b0-8b66-4f19-82b9-be9fcccb6488",
   "metadata": {},
   "outputs": [],
   "source": [
    "test_mmj_kmeans_multi_one_scom(data_id = 89, datasets = test_data_145, datasets_true_K = true_K_145, attempts = 20)\n",
    " "
   ]
  },
  {
   "cell_type": "code",
   "execution_count": null,
   "id": "56ec102b-708f-4563-a067-cd43e140e886",
   "metadata": {},
   "outputs": [],
   "source": [
    "#The black dots are Strong Border Points; the black circles are Weak Border Points. "
   ]
  },
  {
   "cell_type": "code",
   "execution_count": null,
   "id": "ec9dcbcb-2144-4fc6-90c8-b2e54f2af64f",
   "metadata": {},
   "outputs": [],
   "source": []
  }
 ],
 "metadata": {
  "kernelspec": {
   "display_name": "Python 3 (ipykernel)",
   "language": "python",
   "name": "python3"
  },
  "language_info": {
   "codemirror_mode": {
    "name": "ipython",
    "version": 3
   },
   "file_extension": ".py",
   "mimetype": "text/x-python",
   "name": "python",
   "nbconvert_exporter": "python",
   "pygments_lexer": "ipython3",
   "version": "3.12.3"
  }
 },
 "nbformat": 4,
 "nbformat_minor": 5
}
